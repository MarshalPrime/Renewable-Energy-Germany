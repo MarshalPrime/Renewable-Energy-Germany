{
 "cells": [
  {
   "cell_type": "code",
   "execution_count": 1,
   "id": "dfdb32b2",
   "metadata": {},
   "outputs": [],
   "source": [
    "import pandas as pd\n",
    "import numpy as np\n",
    "import seaborn as sns\n",
    "import matplotlib.pyplot as plt\n"
   ]
  },
  {
   "cell_type": "code",
   "execution_count": 2,
   "id": "c6cb71c2",
   "metadata": {},
   "outputs": [
    {
     "name": "stderr",
     "output_type": "stream",
     "text": [
      "/home/marshal/anaconda3/lib/python3.11/site-packages/openpyxl/styles/stylesheet.py:226: UserWarning: Workbook contains no default style, apply openpyxl's default\n",
      "  warn(\"Workbook contains no default style, apply openpyxl's default\")\n"
     ]
    },
    {
     "data": {
      "text/html": [
       "<div>\n",
       "<style scoped>\n",
       "    .dataframe tbody tr th:only-of-type {\n",
       "        vertical-align: middle;\n",
       "    }\n",
       "\n",
       "    .dataframe tbody tr th {\n",
       "        vertical-align: top;\n",
       "    }\n",
       "\n",
       "    .dataframe thead th {\n",
       "        text-align: right;\n",
       "    }\n",
       "</style>\n",
       "<table border=\"1\" class=\"dataframe\">\n",
       "  <thead>\n",
       "    <tr style=\"text-align: right;\">\n",
       "      <th></th>\n",
       "      <th>0</th>\n",
       "      <th>1</th>\n",
       "      <th>2</th>\n",
       "      <th>3</th>\n",
       "      <th>4</th>\n",
       "      <th>5</th>\n",
       "      <th>6</th>\n",
       "      <th>7</th>\n",
       "      <th>8</th>\n",
       "      <th>9</th>\n",
       "      <th>10</th>\n",
       "      <th>11</th>\n",
       "      <th>12</th>\n",
       "      <th>13</th>\n",
       "      <th>14</th>\n",
       "    </tr>\n",
       "  </thead>\n",
       "  <tbody>\n",
       "    <tr>\n",
       "      <th>0</th>\n",
       "      <td>Date</td>\n",
       "      <td>Start</td>\n",
       "      <td>End</td>\n",
       "      <td>Biomass [MWh]</td>\n",
       "      <td>Hydropower [MWh]</td>\n",
       "      <td>Wind offshore [MWh]</td>\n",
       "      <td>Wind onshore [MWh]</td>\n",
       "      <td>Photovoltaics [MWh]</td>\n",
       "      <td>Other renewable [MWh]</td>\n",
       "      <td>Nuclear [MWh]</td>\n",
       "      <td>Lignite [MWh]</td>\n",
       "      <td>Hard coal [MWh]</td>\n",
       "      <td>Fossil gas [MWh]</td>\n",
       "      <td>Hydro pumped storage [MWh]</td>\n",
       "      <td>Other conventional [MWh]</td>\n",
       "    </tr>\n",
       "    <tr>\n",
       "      <th>1</th>\n",
       "      <td>Jan 1, 2020</td>\n",
       "      <td>12:00 AM</td>\n",
       "      <td>12:15 AM</td>\n",
       "      <td>1229.5</td>\n",
       "      <td>343.5</td>\n",
       "      <td>125.25</td>\n",
       "      <td>1476.25</td>\n",
       "      <td>0</td>\n",
       "      <td>56.25</td>\n",
       "      <td>2024</td>\n",
       "      <td>2320</td>\n",
       "      <td>496.25</td>\n",
       "      <td>1269.25</td>\n",
       "      <td>266.25</td>\n",
       "      <td>437.75</td>\n",
       "    </tr>\n",
       "    <tr>\n",
       "      <th>2</th>\n",
       "      <td>Jan 1, 2020</td>\n",
       "      <td>12:15 AM</td>\n",
       "      <td>12:30 AM</td>\n",
       "      <td>1228.25</td>\n",
       "      <td>339.75</td>\n",
       "      <td>125.25</td>\n",
       "      <td>1471.5</td>\n",
       "      <td>0</td>\n",
       "      <td>55.5</td>\n",
       "      <td>2020.75</td>\n",
       "      <td>2326</td>\n",
       "      <td>487</td>\n",
       "      <td>1237.5</td>\n",
       "      <td>128</td>\n",
       "      <td>437.75</td>\n",
       "    </tr>\n",
       "    <tr>\n",
       "      <th>3</th>\n",
       "      <td>Jan 1, 2020</td>\n",
       "      <td>12:30 AM</td>\n",
       "      <td>12:45 AM</td>\n",
       "      <td>1224.75</td>\n",
       "      <td>338.5</td>\n",
       "      <td>135</td>\n",
       "      <td>1527.5</td>\n",
       "      <td>0</td>\n",
       "      <td>55.5</td>\n",
       "      <td>2020.5</td>\n",
       "      <td>2334</td>\n",
       "      <td>485.5</td>\n",
       "      <td>1214.25</td>\n",
       "      <td>103</td>\n",
       "      <td>438.75</td>\n",
       "    </tr>\n",
       "    <tr>\n",
       "      <th>4</th>\n",
       "      <td>Jan 1, 2020</td>\n",
       "      <td>12:45 AM</td>\n",
       "      <td>1:00 AM</td>\n",
       "      <td>1224.25</td>\n",
       "      <td>337.5</td>\n",
       "      <td>163.75</td>\n",
       "      <td>1559.5</td>\n",
       "      <td>0</td>\n",
       "      <td>55.5</td>\n",
       "      <td>2019.5</td>\n",
       "      <td>2337</td>\n",
       "      <td>493</td>\n",
       "      <td>1195.5</td>\n",
       "      <td>57.5</td>\n",
       "      <td>437.5</td>\n",
       "    </tr>\n",
       "  </tbody>\n",
       "</table>\n",
       "</div>"
      ],
      "text/plain": [
       "            0         1         2              3                 4   \\\n",
       "0         Date     Start       End  Biomass [MWh]  Hydropower [MWh]   \n",
       "1  Jan 1, 2020  12:00 AM  12:15 AM         1229.5             343.5   \n",
       "2  Jan 1, 2020  12:15 AM  12:30 AM        1228.25            339.75   \n",
       "3  Jan 1, 2020  12:30 AM  12:45 AM        1224.75             338.5   \n",
       "4  Jan 1, 2020  12:45 AM   1:00 AM        1224.25             337.5   \n",
       "\n",
       "                    5                   6                    7   \\\n",
       "0  Wind offshore [MWh]  Wind onshore [MWh]  Photovoltaics [MWh]   \n",
       "1               125.25             1476.25                    0   \n",
       "2               125.25              1471.5                    0   \n",
       "3                  135              1527.5                    0   \n",
       "4               163.75              1559.5                    0   \n",
       "\n",
       "                      8              9              10               11  \\\n",
       "0  Other renewable [MWh]  Nuclear [MWh]  Lignite [MWh]  Hard coal [MWh]   \n",
       "1                  56.25           2024           2320           496.25   \n",
       "2                   55.5        2020.75           2326              487   \n",
       "3                   55.5         2020.5           2334            485.5   \n",
       "4                   55.5         2019.5           2337              493   \n",
       "\n",
       "                 12                          13                        14  \n",
       "0  Fossil gas [MWh]  Hydro pumped storage [MWh]  Other conventional [MWh]  \n",
       "1           1269.25                      266.25                    437.75  \n",
       "2            1237.5                         128                    437.75  \n",
       "3           1214.25                         103                    438.75  \n",
       "4            1195.5                        57.5                     437.5  "
      ]
     },
     "execution_count": 2,
     "metadata": {},
     "output_type": "execute_result"
    }
   ],
   "source": [
    "file_path = 'Actual_generation_202001010000_202401012359_Quarterhour.xlsx'\n",
    "df = pd.read_excel(file_path, header=None, skiprows=9)\n",
    "\n",
    "df.head()"
   ]
  },
  {
   "cell_type": "markdown",
   "id": "ddf75409",
   "metadata": {},
   "source": [
    "### Renaiming the columns of DataFrame 'df based on the values in the first row of the DataFrame"
   ]
  },
  {
   "cell_type": "code",
   "execution_count": 29,
   "id": "7b68fe4c",
   "metadata": {},
   "outputs": [
    {
     "data": {
      "text/html": [
       "<div>\n",
       "<style scoped>\n",
       "    .dataframe tbody tr th:only-of-type {\n",
       "        vertical-align: middle;\n",
       "    }\n",
       "\n",
       "    .dataframe tbody tr th {\n",
       "        vertical-align: top;\n",
       "    }\n",
       "\n",
       "    .dataframe thead th {\n",
       "        text-align: right;\n",
       "    }\n",
       "</style>\n",
       "<table border=\"1\" class=\"dataframe\">\n",
       "  <thead>\n",
       "    <tr style=\"text-align: right;\">\n",
       "      <th></th>\n",
       "      <th>Date</th>\n",
       "      <th>Start</th>\n",
       "      <th>End</th>\n",
       "      <th>Biomass [MWh]</th>\n",
       "      <th>Hydropower [MWh]</th>\n",
       "      <th>Wind offshore [MWh]</th>\n",
       "      <th>Wind onshore [MWh]</th>\n",
       "      <th>Photovoltaics [MWh]</th>\n",
       "      <th>Other renewable [MWh]</th>\n",
       "      <th>Nuclear [MWh]</th>\n",
       "      <th>Lignite [MWh]</th>\n",
       "      <th>Hard coal [MWh]</th>\n",
       "      <th>Fossil gas [MWh]</th>\n",
       "      <th>Hydro pumped storage [MWh]</th>\n",
       "      <th>Other conventional [MWh]</th>\n",
       "    </tr>\n",
       "  </thead>\n",
       "  <tbody>\n",
       "    <tr>\n",
       "      <th>0</th>\n",
       "      <td>Date</td>\n",
       "      <td>Start</td>\n",
       "      <td>End</td>\n",
       "      <td>Biomass [MWh]</td>\n",
       "      <td>Hydropower [MWh]</td>\n",
       "      <td>Wind offshore [MWh]</td>\n",
       "      <td>Wind onshore [MWh]</td>\n",
       "      <td>Photovoltaics [MWh]</td>\n",
       "      <td>Other renewable [MWh]</td>\n",
       "      <td>Nuclear [MWh]</td>\n",
       "      <td>Lignite [MWh]</td>\n",
       "      <td>Hard coal [MWh]</td>\n",
       "      <td>Fossil gas [MWh]</td>\n",
       "      <td>Hydro pumped storage [MWh]</td>\n",
       "      <td>Other conventional [MWh]</td>\n",
       "    </tr>\n",
       "    <tr>\n",
       "      <th>1</th>\n",
       "      <td>Jan 1, 2020</td>\n",
       "      <td>12:00 AM</td>\n",
       "      <td>12:15 AM</td>\n",
       "      <td>1229.5</td>\n",
       "      <td>343.5</td>\n",
       "      <td>125.25</td>\n",
       "      <td>1476.25</td>\n",
       "      <td>0</td>\n",
       "      <td>56.25</td>\n",
       "      <td>2024</td>\n",
       "      <td>2320</td>\n",
       "      <td>496.25</td>\n",
       "      <td>1269.25</td>\n",
       "      <td>266.25</td>\n",
       "      <td>437.75</td>\n",
       "    </tr>\n",
       "    <tr>\n",
       "      <th>2</th>\n",
       "      <td>Jan 1, 2020</td>\n",
       "      <td>12:15 AM</td>\n",
       "      <td>12:30 AM</td>\n",
       "      <td>1228.25</td>\n",
       "      <td>339.75</td>\n",
       "      <td>125.25</td>\n",
       "      <td>1471.5</td>\n",
       "      <td>0</td>\n",
       "      <td>55.5</td>\n",
       "      <td>2020.75</td>\n",
       "      <td>2326</td>\n",
       "      <td>487</td>\n",
       "      <td>1237.5</td>\n",
       "      <td>128</td>\n",
       "      <td>437.75</td>\n",
       "    </tr>\n",
       "    <tr>\n",
       "      <th>3</th>\n",
       "      <td>Jan 1, 2020</td>\n",
       "      <td>12:30 AM</td>\n",
       "      <td>12:45 AM</td>\n",
       "      <td>1224.75</td>\n",
       "      <td>338.5</td>\n",
       "      <td>135</td>\n",
       "      <td>1527.5</td>\n",
       "      <td>0</td>\n",
       "      <td>55.5</td>\n",
       "      <td>2020.5</td>\n",
       "      <td>2334</td>\n",
       "      <td>485.5</td>\n",
       "      <td>1214.25</td>\n",
       "      <td>103</td>\n",
       "      <td>438.75</td>\n",
       "    </tr>\n",
       "    <tr>\n",
       "      <th>4</th>\n",
       "      <td>Jan 1, 2020</td>\n",
       "      <td>12:45 AM</td>\n",
       "      <td>1:00 AM</td>\n",
       "      <td>1224.25</td>\n",
       "      <td>337.5</td>\n",
       "      <td>163.75</td>\n",
       "      <td>1559.5</td>\n",
       "      <td>0</td>\n",
       "      <td>55.5</td>\n",
       "      <td>2019.5</td>\n",
       "      <td>2337</td>\n",
       "      <td>493</td>\n",
       "      <td>1195.5</td>\n",
       "      <td>57.5</td>\n",
       "      <td>437.5</td>\n",
       "    </tr>\n",
       "  </tbody>\n",
       "</table>\n",
       "</div>"
      ],
      "text/plain": [
       "          Date     Start       End  Biomass [MWh]  Hydropower [MWh]  \\\n",
       "0         Date     Start       End  Biomass [MWh]  Hydropower [MWh]   \n",
       "1  Jan 1, 2020  12:00 AM  12:15 AM         1229.5             343.5   \n",
       "2  Jan 1, 2020  12:15 AM  12:30 AM        1228.25            339.75   \n",
       "3  Jan 1, 2020  12:30 AM  12:45 AM        1224.75             338.5   \n",
       "4  Jan 1, 2020  12:45 AM   1:00 AM        1224.25             337.5   \n",
       "\n",
       "   Wind offshore [MWh]  Wind onshore [MWh]  Photovoltaics [MWh]  \\\n",
       "0  Wind offshore [MWh]  Wind onshore [MWh]  Photovoltaics [MWh]   \n",
       "1               125.25             1476.25                    0   \n",
       "2               125.25              1471.5                    0   \n",
       "3                  135              1527.5                    0   \n",
       "4               163.75              1559.5                    0   \n",
       "\n",
       "   Other renewable [MWh]  Nuclear [MWh]  Lignite [MWh]  Hard coal [MWh]  \\\n",
       "0  Other renewable [MWh]  Nuclear [MWh]  Lignite [MWh]  Hard coal [MWh]   \n",
       "1                  56.25           2024           2320           496.25   \n",
       "2                   55.5        2020.75           2326              487   \n",
       "3                   55.5         2020.5           2334            485.5   \n",
       "4                   55.5         2019.5           2337              493   \n",
       "\n",
       "   Fossil gas [MWh]  Hydro pumped storage [MWh]  Other conventional [MWh]  \n",
       "0  Fossil gas [MWh]  Hydro pumped storage [MWh]  Other conventional [MWh]  \n",
       "1           1269.25                      266.25                    437.75  \n",
       "2            1237.5                         128                    437.75  \n",
       "3           1214.25                         103                    438.75  \n",
       "4            1195.5                        57.5                     437.5  "
      ]
     },
     "execution_count": 29,
     "metadata": {},
     "output_type": "execute_result"
    }
   ],
   "source": [
    "df2 = df.rename(columns=df.iloc[0])\n",
    "df2.head()"
   ]
  },
  {
   "cell_type": "code",
   "execution_count": 4,
   "id": "d4a0ab6a",
   "metadata": {},
   "outputs": [
    {
     "name": "stdout",
     "output_type": "stream",
     "text": [
      "<class 'pandas.core.frame.DataFrame'>\n",
      "RangeIndex: 140353 entries, 0 to 140352\n",
      "Data columns (total 15 columns):\n",
      " #   Column                      Non-Null Count   Dtype \n",
      "---  ------                      --------------   ----- \n",
      " 0   Date                        140353 non-null  object\n",
      " 1   Start                       140353 non-null  object\n",
      " 2   End                         140353 non-null  object\n",
      " 3   Biomass [MWh]               140353 non-null  object\n",
      " 4   Hydropower [MWh]            140353 non-null  object\n",
      " 5   Wind offshore [MWh]         140353 non-null  object\n",
      " 6   Wind onshore [MWh]          140353 non-null  object\n",
      " 7   Photovoltaics [MWh]         140353 non-null  object\n",
      " 8   Other renewable [MWh]       140353 non-null  object\n",
      " 9   Nuclear [MWh]               140353 non-null  object\n",
      " 10  Lignite [MWh]               140353 non-null  object\n",
      " 11  Hard coal [MWh]             140353 non-null  object\n",
      " 12  Fossil gas [MWh]            140353 non-null  object\n",
      " 13  Hydro pumped storage [MWh]  140353 non-null  object\n",
      " 14  Other conventional [MWh]    140353 non-null  object\n",
      "dtypes: object(15)\n",
      "memory usage: 16.1+ MB\n"
     ]
    },
    {
     "data": {
      "text/plain": [
       "(140353, 15)"
      ]
     },
     "execution_count": 4,
     "metadata": {},
     "output_type": "execute_result"
    }
   ],
   "source": [
    "df2.info()\n",
    "df2.shape"
   ]
  },
  {
   "cell_type": "code",
   "execution_count": 5,
   "id": "034c146f",
   "metadata": {},
   "outputs": [
    {
     "data": {
      "text/html": [
       "<div>\n",
       "<style scoped>\n",
       "    .dataframe tbody tr th:only-of-type {\n",
       "        vertical-align: middle;\n",
       "    }\n",
       "\n",
       "    .dataframe tbody tr th {\n",
       "        vertical-align: top;\n",
       "    }\n",
       "\n",
       "    .dataframe thead th {\n",
       "        text-align: right;\n",
       "    }\n",
       "</style>\n",
       "<table border=\"1\" class=\"dataframe\">\n",
       "  <thead>\n",
       "    <tr style=\"text-align: right;\">\n",
       "      <th></th>\n",
       "      <th>Date</th>\n",
       "      <th>Start</th>\n",
       "      <th>End</th>\n",
       "      <th>Wind offshore [MWh]</th>\n",
       "      <th>Wind onshore [MWh]</th>\n",
       "    </tr>\n",
       "  </thead>\n",
       "  <tbody>\n",
       "    <tr>\n",
       "      <th>0</th>\n",
       "      <td>Date</td>\n",
       "      <td>Start</td>\n",
       "      <td>End</td>\n",
       "      <td>Wind offshore [MWh]</td>\n",
       "      <td>Wind onshore [MWh]</td>\n",
       "    </tr>\n",
       "    <tr>\n",
       "      <th>1</th>\n",
       "      <td>Jan 1, 2020</td>\n",
       "      <td>12:00 AM</td>\n",
       "      <td>12:15 AM</td>\n",
       "      <td>125.25</td>\n",
       "      <td>1476.25</td>\n",
       "    </tr>\n",
       "    <tr>\n",
       "      <th>2</th>\n",
       "      <td>Jan 1, 2020</td>\n",
       "      <td>12:15 AM</td>\n",
       "      <td>12:30 AM</td>\n",
       "      <td>125.25</td>\n",
       "      <td>1471.5</td>\n",
       "    </tr>\n",
       "    <tr>\n",
       "      <th>3</th>\n",
       "      <td>Jan 1, 2020</td>\n",
       "      <td>12:30 AM</td>\n",
       "      <td>12:45 AM</td>\n",
       "      <td>135</td>\n",
       "      <td>1527.5</td>\n",
       "    </tr>\n",
       "    <tr>\n",
       "      <th>4</th>\n",
       "      <td>Jan 1, 2020</td>\n",
       "      <td>12:45 AM</td>\n",
       "      <td>1:00 AM</td>\n",
       "      <td>163.75</td>\n",
       "      <td>1559.5</td>\n",
       "    </tr>\n",
       "  </tbody>\n",
       "</table>\n",
       "</div>"
      ],
      "text/plain": [
       "          Date     Start       End  Wind offshore [MWh]  Wind onshore [MWh]\n",
       "0         Date     Start       End  Wind offshore [MWh]  Wind onshore [MWh]\n",
       "1  Jan 1, 2020  12:00 AM  12:15 AM               125.25             1476.25\n",
       "2  Jan 1, 2020  12:15 AM  12:30 AM               125.25              1471.5\n",
       "3  Jan 1, 2020  12:30 AM  12:45 AM                  135              1527.5\n",
       "4  Jan 1, 2020  12:45 AM   1:00 AM               163.75              1559.5"
      ]
     },
     "execution_count": 5,
     "metadata": {},
     "output_type": "execute_result"
    }
   ],
   "source": [
    "# Assuming 'Date', 'Start', 'End', 'Wind offshore [MWh]', 'Wind onshore [MWh]' are present in df\n",
    "Filtered_df = df2[['Date', 'Start', 'End', 'Wind offshore [MWh]', 'Wind onshore [MWh]']]\n",
    "\n",
    "# Display the new DataFrame\n",
    "Filtered_df.head()\n"
   ]
  },
  {
   "cell_type": "markdown",
   "id": "ca2f9a7e",
   "metadata": {},
   "source": [
    "Drop Other columns and remain with Wind Energy Only"
   ]
  },
  {
   "cell_type": "markdown",
   "id": "54ef2bf7",
   "metadata": {},
   "source": [
    "### Drop first row as it is a duplicate of our column name"
   ]
  },
  {
   "cell_type": "code",
   "execution_count": 6,
   "id": "b431e874",
   "metadata": {},
   "outputs": [
    {
     "data": {
      "text/html": [
       "<div>\n",
       "<style scoped>\n",
       "    .dataframe tbody tr th:only-of-type {\n",
       "        vertical-align: middle;\n",
       "    }\n",
       "\n",
       "    .dataframe tbody tr th {\n",
       "        vertical-align: top;\n",
       "    }\n",
       "\n",
       "    .dataframe thead th {\n",
       "        text-align: right;\n",
       "    }\n",
       "</style>\n",
       "<table border=\"1\" class=\"dataframe\">\n",
       "  <thead>\n",
       "    <tr style=\"text-align: right;\">\n",
       "      <th></th>\n",
       "      <th>Date</th>\n",
       "      <th>Start</th>\n",
       "      <th>End</th>\n",
       "      <th>Wind offshore [MWh]</th>\n",
       "      <th>Wind onshore [MWh]</th>\n",
       "    </tr>\n",
       "  </thead>\n",
       "  <tbody>\n",
       "    <tr>\n",
       "      <th>1</th>\n",
       "      <td>Jan 1, 2020</td>\n",
       "      <td>12:00 AM</td>\n",
       "      <td>12:15 AM</td>\n",
       "      <td>125.25</td>\n",
       "      <td>1476.25</td>\n",
       "    </tr>\n",
       "    <tr>\n",
       "      <th>2</th>\n",
       "      <td>Jan 1, 2020</td>\n",
       "      <td>12:15 AM</td>\n",
       "      <td>12:30 AM</td>\n",
       "      <td>125.25</td>\n",
       "      <td>1471.5</td>\n",
       "    </tr>\n",
       "    <tr>\n",
       "      <th>3</th>\n",
       "      <td>Jan 1, 2020</td>\n",
       "      <td>12:30 AM</td>\n",
       "      <td>12:45 AM</td>\n",
       "      <td>135</td>\n",
       "      <td>1527.5</td>\n",
       "    </tr>\n",
       "    <tr>\n",
       "      <th>4</th>\n",
       "      <td>Jan 1, 2020</td>\n",
       "      <td>12:45 AM</td>\n",
       "      <td>1:00 AM</td>\n",
       "      <td>163.75</td>\n",
       "      <td>1559.5</td>\n",
       "    </tr>\n",
       "    <tr>\n",
       "      <th>5</th>\n",
       "      <td>Jan 1, 2020</td>\n",
       "      <td>1:00 AM</td>\n",
       "      <td>1:15 AM</td>\n",
       "      <td>222.5</td>\n",
       "      <td>1521</td>\n",
       "    </tr>\n",
       "  </tbody>\n",
       "</table>\n",
       "</div>"
      ],
      "text/plain": [
       "          Date     Start       End Wind offshore [MWh] Wind onshore [MWh]\n",
       "1  Jan 1, 2020  12:00 AM  12:15 AM              125.25            1476.25\n",
       "2  Jan 1, 2020  12:15 AM  12:30 AM              125.25             1471.5\n",
       "3  Jan 1, 2020  12:30 AM  12:45 AM                 135             1527.5\n",
       "4  Jan 1, 2020  12:45 AM   1:00 AM              163.75             1559.5\n",
       "5  Jan 1, 2020   1:00 AM   1:15 AM               222.5               1521"
      ]
     },
     "execution_count": 6,
     "metadata": {},
     "output_type": "execute_result"
    }
   ],
   "source": [
    "filtered_review=Filtered_df.drop(Filtered_df.index[0])\n",
    "filtered_review.head()"
   ]
  },
  {
   "cell_type": "code",
   "execution_count": 7,
   "id": "640bce02",
   "metadata": {},
   "outputs": [
    {
     "name": "stdout",
     "output_type": "stream",
     "text": [
      "Date                   0\n",
      "Start                  0\n",
      "End                    0\n",
      "Wind offshore [MWh]    0\n",
      "Wind onshore [MWh]     0\n",
      "dtype: int64\n"
     ]
    }
   ],
   "source": [
    "# Count null values in each column\n",
    "null_counts = filtered_review.isnull().sum()\n",
    "\n",
    "# Display the count of null values for each column\n",
    "print(null_counts)"
   ]
  },
  {
   "cell_type": "code",
   "execution_count": 8,
   "id": "d78b9090",
   "metadata": {},
   "outputs": [
    {
     "name": "stdout",
     "output_type": "stream",
     "text": [
      "<class 'pandas.core.frame.DataFrame'>\n",
      "RangeIndex: 140352 entries, 1 to 140352\n",
      "Data columns (total 5 columns):\n",
      " #   Column               Non-Null Count   Dtype \n",
      "---  ------               --------------   ----- \n",
      " 0   Date                 140352 non-null  object\n",
      " 1   Start                140352 non-null  object\n",
      " 2   End                  140352 non-null  object\n",
      " 3   Wind offshore [MWh]  140352 non-null  object\n",
      " 4   Wind onshore [MWh]   140352 non-null  object\n",
      "dtypes: object(5)\n",
      "memory usage: 5.4+ MB\n"
     ]
    },
    {
     "data": {
      "text/plain": [
       "(140352, 5)"
      ]
     },
     "execution_count": 8,
     "metadata": {},
     "output_type": "execute_result"
    }
   ],
   "source": [
    "filtered_review.info()\n",
    "filtered_review.shape"
   ]
  },
  {
   "cell_type": "code",
   "execution_count": 9,
   "id": "3f8b81c7",
   "metadata": {},
   "outputs": [
    {
     "name": "stdout",
     "output_type": "stream",
     "text": [
      "Index(['Date', 'Start', 'End', 'Wind offshore [MWh]', 'Wind onshore [MWh]'], dtype='object')\n"
     ]
    }
   ],
   "source": [
    "print(filtered_review.columns)\n",
    "# check out columns name and number"
   ]
  },
  {
   "cell_type": "markdown",
   "id": "c0622ec0",
   "metadata": {},
   "source": [
    "### convert  'Date' to datetime format"
   ]
  },
  {
   "cell_type": "code",
   "execution_count": 10,
   "id": "9a69218b",
   "metadata": {},
   "outputs": [],
   "source": [
    "filtered_review['Date'] = pd.to_datetime(filtered_review['Date'], format='%b %d, %Y')"
   ]
  },
  {
   "cell_type": "code",
   "execution_count": 11,
   "id": "178c70cd",
   "metadata": {},
   "outputs": [
    {
     "data": {
      "text/html": [
       "<div>\n",
       "<style scoped>\n",
       "    .dataframe tbody tr th:only-of-type {\n",
       "        vertical-align: middle;\n",
       "    }\n",
       "\n",
       "    .dataframe tbody tr th {\n",
       "        vertical-align: top;\n",
       "    }\n",
       "\n",
       "    .dataframe thead th {\n",
       "        text-align: right;\n",
       "    }\n",
       "</style>\n",
       "<table border=\"1\" class=\"dataframe\">\n",
       "  <thead>\n",
       "    <tr style=\"text-align: right;\">\n",
       "      <th></th>\n",
       "      <th>Date</th>\n",
       "      <th>Start</th>\n",
       "      <th>End</th>\n",
       "      <th>Wind offshore [MWh]</th>\n",
       "      <th>Wind onshore [MWh]</th>\n",
       "    </tr>\n",
       "  </thead>\n",
       "  <tbody>\n",
       "    <tr>\n",
       "      <th>1</th>\n",
       "      <td>2020-01-01</td>\n",
       "      <td>12:00 AM</td>\n",
       "      <td>12:15 AM</td>\n",
       "      <td>125.25</td>\n",
       "      <td>1476.25</td>\n",
       "    </tr>\n",
       "    <tr>\n",
       "      <th>2</th>\n",
       "      <td>2020-01-01</td>\n",
       "      <td>12:15 AM</td>\n",
       "      <td>12:30 AM</td>\n",
       "      <td>125.25</td>\n",
       "      <td>1471.5</td>\n",
       "    </tr>\n",
       "    <tr>\n",
       "      <th>3</th>\n",
       "      <td>2020-01-01</td>\n",
       "      <td>12:30 AM</td>\n",
       "      <td>12:45 AM</td>\n",
       "      <td>135</td>\n",
       "      <td>1527.5</td>\n",
       "    </tr>\n",
       "    <tr>\n",
       "      <th>4</th>\n",
       "      <td>2020-01-01</td>\n",
       "      <td>12:45 AM</td>\n",
       "      <td>1:00 AM</td>\n",
       "      <td>163.75</td>\n",
       "      <td>1559.5</td>\n",
       "    </tr>\n",
       "    <tr>\n",
       "      <th>5</th>\n",
       "      <td>2020-01-01</td>\n",
       "      <td>1:00 AM</td>\n",
       "      <td>1:15 AM</td>\n",
       "      <td>222.5</td>\n",
       "      <td>1521</td>\n",
       "    </tr>\n",
       "  </tbody>\n",
       "</table>\n",
       "</div>"
      ],
      "text/plain": [
       "        Date     Start       End Wind offshore [MWh] Wind onshore [MWh]\n",
       "1 2020-01-01  12:00 AM  12:15 AM              125.25            1476.25\n",
       "2 2020-01-01  12:15 AM  12:30 AM              125.25             1471.5\n",
       "3 2020-01-01  12:30 AM  12:45 AM                 135             1527.5\n",
       "4 2020-01-01  12:45 AM   1:00 AM              163.75             1559.5\n",
       "5 2020-01-01   1:00 AM   1:15 AM               222.5               1521"
      ]
     },
     "execution_count": 11,
     "metadata": {},
     "output_type": "execute_result"
    }
   ],
   "source": [
    "filtered_review.head()"
   ]
  },
  {
   "cell_type": "markdown",
   "id": "67cbf096",
   "metadata": {},
   "source": [
    "drop down start and end time and resample daily\n"
   ]
  },
  {
   "cell_type": "code",
   "execution_count": 12,
   "id": "397cd89f",
   "metadata": {},
   "outputs": [
    {
     "name": "stdout",
     "output_type": "stream",
     "text": [
      "Index(['Date', 'Start', 'End', 'Wind offshore [MWh]', 'Wind onshore [MWh]'], dtype='object')\n"
     ]
    }
   ],
   "source": [
    "print(filtered_review.columns)"
   ]
  },
  {
   "cell_type": "code",
   "execution_count": 13,
   "id": "49077f90",
   "metadata": {},
   "outputs": [],
   "source": [
    "df3= filtered_review[['Date','Wind offshore [MWh]','Wind onshore [MWh]']]"
   ]
  },
  {
   "cell_type": "code",
   "execution_count": 14,
   "id": "fe58c290",
   "metadata": {},
   "outputs": [
    {
     "data": {
      "text/html": [
       "<div>\n",
       "<style scoped>\n",
       "    .dataframe tbody tr th:only-of-type {\n",
       "        vertical-align: middle;\n",
       "    }\n",
       "\n",
       "    .dataframe tbody tr th {\n",
       "        vertical-align: top;\n",
       "    }\n",
       "\n",
       "    .dataframe thead th {\n",
       "        text-align: right;\n",
       "    }\n",
       "</style>\n",
       "<table border=\"1\" class=\"dataframe\">\n",
       "  <thead>\n",
       "    <tr style=\"text-align: right;\">\n",
       "      <th></th>\n",
       "      <th>Date</th>\n",
       "      <th>Wind offshore [MWh]</th>\n",
       "      <th>Wind onshore [MWh]</th>\n",
       "    </tr>\n",
       "  </thead>\n",
       "  <tbody>\n",
       "    <tr>\n",
       "      <th>1</th>\n",
       "      <td>2020-01-01</td>\n",
       "      <td>125.25</td>\n",
       "      <td>1476.25</td>\n",
       "    </tr>\n",
       "    <tr>\n",
       "      <th>2</th>\n",
       "      <td>2020-01-01</td>\n",
       "      <td>125.25</td>\n",
       "      <td>1471.5</td>\n",
       "    </tr>\n",
       "    <tr>\n",
       "      <th>3</th>\n",
       "      <td>2020-01-01</td>\n",
       "      <td>135</td>\n",
       "      <td>1527.5</td>\n",
       "    </tr>\n",
       "    <tr>\n",
       "      <th>4</th>\n",
       "      <td>2020-01-01</td>\n",
       "      <td>163.75</td>\n",
       "      <td>1559.5</td>\n",
       "    </tr>\n",
       "    <tr>\n",
       "      <th>5</th>\n",
       "      <td>2020-01-01</td>\n",
       "      <td>222.5</td>\n",
       "      <td>1521</td>\n",
       "    </tr>\n",
       "  </tbody>\n",
       "</table>\n",
       "</div>"
      ],
      "text/plain": [
       "        Date Wind offshore [MWh] Wind onshore [MWh]\n",
       "1 2020-01-01              125.25            1476.25\n",
       "2 2020-01-01              125.25             1471.5\n",
       "3 2020-01-01                 135             1527.5\n",
       "4 2020-01-01              163.75             1559.5\n",
       "5 2020-01-01               222.5               1521"
      ]
     },
     "execution_count": 14,
     "metadata": {},
     "output_type": "execute_result"
    }
   ],
   "source": [
    "df3.head()"
   ]
  },
  {
   "cell_type": "code",
   "execution_count": 15,
   "id": "9466d976",
   "metadata": {},
   "outputs": [],
   "source": [
    "df3.set_index('Date', inplace=True)"
   ]
  },
  {
   "cell_type": "code",
   "execution_count": 16,
   "id": "9858a678",
   "metadata": {},
   "outputs": [
    {
     "data": {
      "text/html": [
       "<div>\n",
       "<style scoped>\n",
       "    .dataframe tbody tr th:only-of-type {\n",
       "        vertical-align: middle;\n",
       "    }\n",
       "\n",
       "    .dataframe tbody tr th {\n",
       "        vertical-align: top;\n",
       "    }\n",
       "\n",
       "    .dataframe thead th {\n",
       "        text-align: right;\n",
       "    }\n",
       "</style>\n",
       "<table border=\"1\" class=\"dataframe\">\n",
       "  <thead>\n",
       "    <tr style=\"text-align: right;\">\n",
       "      <th></th>\n",
       "      <th>Wind offshore [MWh]</th>\n",
       "      <th>Wind onshore [MWh]</th>\n",
       "    </tr>\n",
       "    <tr>\n",
       "      <th>Date</th>\n",
       "      <th></th>\n",
       "      <th></th>\n",
       "    </tr>\n",
       "  </thead>\n",
       "  <tbody>\n",
       "    <tr>\n",
       "      <th>2020-01-01</th>\n",
       "      <td>125.25</td>\n",
       "      <td>1476.25</td>\n",
       "    </tr>\n",
       "    <tr>\n",
       "      <th>2020-01-01</th>\n",
       "      <td>125.25</td>\n",
       "      <td>1471.5</td>\n",
       "    </tr>\n",
       "    <tr>\n",
       "      <th>2020-01-01</th>\n",
       "      <td>135</td>\n",
       "      <td>1527.5</td>\n",
       "    </tr>\n",
       "    <tr>\n",
       "      <th>2020-01-01</th>\n",
       "      <td>163.75</td>\n",
       "      <td>1559.5</td>\n",
       "    </tr>\n",
       "    <tr>\n",
       "      <th>2020-01-01</th>\n",
       "      <td>222.5</td>\n",
       "      <td>1521</td>\n",
       "    </tr>\n",
       "  </tbody>\n",
       "</table>\n",
       "</div>"
      ],
      "text/plain": [
       "           Wind offshore [MWh] Wind onshore [MWh]\n",
       "Date                                             \n",
       "2020-01-01              125.25            1476.25\n",
       "2020-01-01              125.25             1471.5\n",
       "2020-01-01                 135             1527.5\n",
       "2020-01-01              163.75             1559.5\n",
       "2020-01-01               222.5               1521"
      ]
     },
     "execution_count": 16,
     "metadata": {},
     "output_type": "execute_result"
    }
   ],
   "source": [
    "df3.head()"
   ]
  },
  {
   "cell_type": "code",
   "execution_count": 17,
   "id": "cffa9f0e",
   "metadata": {},
   "outputs": [
    {
     "name": "stdout",
     "output_type": "stream",
     "text": [
      "Index(['Wind offshore [MWh]', 'Wind onshore [MWh]'], dtype='object')\n"
     ]
    }
   ],
   "source": [
    "print(df3.columns)\n"
   ]
  },
  {
   "cell_type": "code",
   "execution_count": 18,
   "id": "c6e1f412",
   "metadata": {},
   "outputs": [
    {
     "name": "stdout",
     "output_type": "stream",
     "text": [
      "<class 'pandas.core.frame.DataFrame'>\n",
      "DatetimeIndex: 140352 entries, 2020-01-01 to 2024-01-01\n",
      "Data columns (total 2 columns):\n",
      " #   Column               Non-Null Count   Dtype \n",
      "---  ------               --------------   ----- \n",
      " 0   Wind offshore [MWh]  140352 non-null  object\n",
      " 1   Wind onshore [MWh]   140352 non-null  object\n",
      "dtypes: object(2)\n",
      "memory usage: 3.2+ MB\n"
     ]
    },
    {
     "data": {
      "text/plain": [
       "(140352, 2)"
      ]
     },
     "execution_count": 18,
     "metadata": {},
     "output_type": "execute_result"
    }
   ],
   "source": [
    "df3.info()\n",
    "df3.shape\n"
   ]
  },
  {
   "cell_type": "markdown",
   "id": "26446c10",
   "metadata": {},
   "source": [
    "###  convert the values in a Series to numeric format."
   ]
  },
  {
   "cell_type": "code",
   "execution_count": 19,
   "id": "2c13f7fd",
   "metadata": {},
   "outputs": [
    {
     "name": "stderr",
     "output_type": "stream",
     "text": [
      "/tmp/ipykernel_19588/3439912741.py:1: SettingWithCopyWarning: \n",
      "A value is trying to be set on a copy of a slice from a DataFrame.\n",
      "Try using .loc[row_indexer,col_indexer] = value instead\n",
      "\n",
      "See the caveats in the documentation: https://pandas.pydata.org/pandas-docs/stable/user_guide/indexing.html#returning-a-view-versus-a-copy\n",
      "  df3['Wind offshore [MWh]'] = pd.to_numeric(df3['Wind offshore [MWh]'], errors='coerce')\n",
      "/tmp/ipykernel_19588/3439912741.py:2: SettingWithCopyWarning: \n",
      "A value is trying to be set on a copy of a slice from a DataFrame.\n",
      "Try using .loc[row_indexer,col_indexer] = value instead\n",
      "\n",
      "See the caveats in the documentation: https://pandas.pydata.org/pandas-docs/stable/user_guide/indexing.html#returning-a-view-versus-a-copy\n",
      "  df3['Wind onshore [MWh]'] = pd.to_numeric(df3['Wind onshore [MWh]'], errors='coerce')\n"
     ]
    }
   ],
   "source": [
    "df3['Wind offshore [MWh]'] = pd.to_numeric(df3['Wind offshore [MWh]'], errors='coerce')\n",
    "df3['Wind onshore [MWh]'] = pd.to_numeric(df3['Wind onshore [MWh]'], errors='coerce')"
   ]
  },
  {
   "cell_type": "code",
   "execution_count": 20,
   "id": "eb71c7b9",
   "metadata": {},
   "outputs": [
    {
     "name": "stdout",
     "output_type": "stream",
     "text": [
      "<class 'pandas.core.frame.DataFrame'>\n",
      "DatetimeIndex: 140352 entries, 2020-01-01 to 2024-01-01\n",
      "Data columns (total 2 columns):\n",
      " #   Column               Non-Null Count   Dtype  \n",
      "---  ------               --------------   -----  \n",
      " 0   Wind offshore [MWh]  140352 non-null  float64\n",
      " 1   Wind onshore [MWh]   140352 non-null  float64\n",
      "dtypes: float64(2)\n",
      "memory usage: 3.2 MB\n"
     ]
    },
    {
     "data": {
      "text/plain": [
       "(140352, 2)"
      ]
     },
     "execution_count": 20,
     "metadata": {},
     "output_type": "execute_result"
    }
   ],
   "source": [
    "df3.info()\n",
    "df3.shape\n",
    "\n"
   ]
  },
  {
   "cell_type": "code",
   "execution_count": 21,
   "id": "d8fad9fb",
   "metadata": {},
   "outputs": [
    {
     "data": {
      "text/html": [
       "<div>\n",
       "<style scoped>\n",
       "    .dataframe tbody tr th:only-of-type {\n",
       "        vertical-align: middle;\n",
       "    }\n",
       "\n",
       "    .dataframe tbody tr th {\n",
       "        vertical-align: top;\n",
       "    }\n",
       "\n",
       "    .dataframe thead th {\n",
       "        text-align: right;\n",
       "    }\n",
       "</style>\n",
       "<table border=\"1\" class=\"dataframe\">\n",
       "  <thead>\n",
       "    <tr style=\"text-align: right;\">\n",
       "      <th></th>\n",
       "      <th>Wind offshore [MWh]</th>\n",
       "      <th>Wind onshore [MWh]</th>\n",
       "    </tr>\n",
       "    <tr>\n",
       "      <th>Date</th>\n",
       "      <th></th>\n",
       "      <th></th>\n",
       "    </tr>\n",
       "  </thead>\n",
       "  <tbody>\n",
       "    <tr>\n",
       "      <th>2020-01-01</th>\n",
       "      <td>125.25</td>\n",
       "      <td>1476.25</td>\n",
       "    </tr>\n",
       "    <tr>\n",
       "      <th>2020-01-01</th>\n",
       "      <td>125.25</td>\n",
       "      <td>1471.50</td>\n",
       "    </tr>\n",
       "    <tr>\n",
       "      <th>2020-01-01</th>\n",
       "      <td>135.00</td>\n",
       "      <td>1527.50</td>\n",
       "    </tr>\n",
       "    <tr>\n",
       "      <th>2020-01-01</th>\n",
       "      <td>163.75</td>\n",
       "      <td>1559.50</td>\n",
       "    </tr>\n",
       "    <tr>\n",
       "      <th>2020-01-01</th>\n",
       "      <td>222.50</td>\n",
       "      <td>1521.00</td>\n",
       "    </tr>\n",
       "  </tbody>\n",
       "</table>\n",
       "</div>"
      ],
      "text/plain": [
       "            Wind offshore [MWh]  Wind onshore [MWh]\n",
       "Date                                               \n",
       "2020-01-01               125.25             1476.25\n",
       "2020-01-01               125.25             1471.50\n",
       "2020-01-01               135.00             1527.50\n",
       "2020-01-01               163.75             1559.50\n",
       "2020-01-01               222.50             1521.00"
      ]
     },
     "execution_count": 21,
     "metadata": {},
     "output_type": "execute_result"
    }
   ],
   "source": [
    "df3.head()"
   ]
  },
  {
   "cell_type": "markdown",
   "id": "6b00b886",
   "metadata": {},
   "source": [
    "### Resampling Our DataSet (Daily)"
   ]
  },
  {
   "cell_type": "code",
   "execution_count": 22,
   "id": "705146f7",
   "metadata": {},
   "outputs": [],
   "source": [
    "df_resampled = df3.resample('M').sum()\n"
   ]
  },
  {
   "cell_type": "markdown",
   "id": "03cdf6f0",
   "metadata": {},
   "source": [
    "df_resampled, is a new DataFrame where the time series data from df7 has been resampled at a daily frequency, and the values for each day are the sums of the original data for that day."
   ]
  },
  {
   "cell_type": "code",
   "execution_count": 23,
   "id": "cb0df106",
   "metadata": {},
   "outputs": [
    {
     "data": {
      "text/html": [
       "<div>\n",
       "<style scoped>\n",
       "    .dataframe tbody tr th:only-of-type {\n",
       "        vertical-align: middle;\n",
       "    }\n",
       "\n",
       "    .dataframe tbody tr th {\n",
       "        vertical-align: top;\n",
       "    }\n",
       "\n",
       "    .dataframe thead th {\n",
       "        text-align: right;\n",
       "    }\n",
       "</style>\n",
       "<table border=\"1\" class=\"dataframe\">\n",
       "  <thead>\n",
       "    <tr style=\"text-align: right;\">\n",
       "      <th></th>\n",
       "      <th>Wind offshore [MWh]</th>\n",
       "      <th>Wind onshore [MWh]</th>\n",
       "    </tr>\n",
       "    <tr>\n",
       "      <th>Date</th>\n",
       "      <th></th>\n",
       "      <th></th>\n",
       "    </tr>\n",
       "  </thead>\n",
       "  <tbody>\n",
       "    <tr>\n",
       "      <th>2020-01-31</th>\n",
       "      <td>3280590.50</td>\n",
       "      <td>12667133.50</td>\n",
       "    </tr>\n",
       "    <tr>\n",
       "      <th>2020-02-29</th>\n",
       "      <td>2995582.25</td>\n",
       "      <td>17241182.25</td>\n",
       "    </tr>\n",
       "    <tr>\n",
       "      <th>2020-03-31</th>\n",
       "      <td>2627413.50</td>\n",
       "      <td>11538062.25</td>\n",
       "    </tr>\n",
       "    <tr>\n",
       "      <th>2020-04-30</th>\n",
       "      <td>1832053.00</td>\n",
       "      <td>6957597.00</td>\n",
       "    </tr>\n",
       "    <tr>\n",
       "      <th>2020-05-31</th>\n",
       "      <td>1567378.25</td>\n",
       "      <td>6094043.50</td>\n",
       "    </tr>\n",
       "  </tbody>\n",
       "</table>\n",
       "</div>"
      ],
      "text/plain": [
       "            Wind offshore [MWh]  Wind onshore [MWh]\n",
       "Date                                               \n",
       "2020-01-31           3280590.50         12667133.50\n",
       "2020-02-29           2995582.25         17241182.25\n",
       "2020-03-31           2627413.50         11538062.25\n",
       "2020-04-30           1832053.00          6957597.00\n",
       "2020-05-31           1567378.25          6094043.50"
      ]
     },
     "execution_count": 23,
     "metadata": {},
     "output_type": "execute_result"
    }
   ],
   "source": [
    "df_resampled.head()"
   ]
  },
  {
   "cell_type": "markdown",
   "id": "9495db99",
   "metadata": {},
   "source": [
    "### Plot Time series Graph"
   ]
  },
  {
   "cell_type": "code",
   "execution_count": 24,
   "id": "f10705cc",
   "metadata": {},
   "outputs": [
    {
     "data": {
      "image/png": "[encoded data removed]",
      "text/plain": [
       "<Figure size 1500x700 with 1 Axes>"
      ]
     },
     "metadata": {},
     "output_type": "display_data"
    }
   ],
   "source": [
    "plt.figure(figsize=(15, 7))\n",
    "df_resampled['Wind onshore [MWh]'].plot()\n",
    "plt.title('Daily Wind Onshore Generation')\n",
    "plt.xlabel('Date')\n",
    "plt.ylabel('Wind Onshore Generation (MWh)')\n",
    "plt.grid(True)\n",
    "plt.show()"
   ]
  },
  {
   "cell_type": "code",
   "execution_count": 25,
   "id": "cf838110",
   "metadata": {},
   "outputs": [
    {
     "data": {
      "image/png": "[encoded data removed]",
      "text/plain": [
       "<Figure size 1000x600 with 1 Axes>"
      ]
     },
     "metadata": {},
     "output_type": "display_data"
    }
   ],
   "source": [
    "plt.figure(figsize=(10, 6))\n",
    "df_resampled['Wind offshore [MWh]'].plot()\n",
    "plt.title('Daily Wind offshore Generation (Bar Chart)')\n",
    "plt.xlabel('Date')\n",
    "plt.ylabel('Wind Onshore Generation (MWh)')\n",
    "plt.grid(axis='y', linestyle='--', alpha=0.7)\n",
    "plt.show()"
   ]
  },
  {
   "cell_type": "code",
   "execution_count": 26,
   "id": "c40e2bb8",
   "metadata": {},
   "outputs": [
    {
     "name": "stdout",
     "output_type": "stream",
     "text": [
      "       Wind onshore [MWh]  Wind offshore [MWh]\n",
      "count        4.900000e+01         4.900000e+01\n",
      "mean         8.419167e+06         2.025766e+06\n",
      "std          3.702012e+06         7.126287e+05\n",
      "min          6.742468e+05         1.012748e+05\n",
      "25%          5.480207e+06         1.480282e+06\n",
      "50%          8.373148e+06         1.906612e+06\n",
      "75%          1.013439e+07         2.620454e+06\n",
      "max          1.766380e+07         3.280590e+06\n"
     ]
    }
   ],
   "source": [
    "g_stats = df_resampled[['Wind onshore [MWh]', 'Wind offshore [MWh]']].describe()\n",
    "print(g_stats)"
   ]
  },
  {
   "cell_type": "code",
   "execution_count": 27,
   "id": "c25130a3",
   "metadata": {},
   "outputs": [
    {
     "name": "stdout",
     "output_type": "stream",
     "text": [
      "Maximum Wind Onshore Generation: 17663797.25 MWh (Index:2022-02-28 00:00:00 )\n",
      "Minimum Wind Onshore Generation: 674246.75 MWh (Index:2024-01-31 00:00:00)\n",
      "Average Wind Onshore Generation: 8419167.107142856 MWh\n"
     ]
    }
   ],
   "source": [
    "\n",
    "max_value = df_resampled['Wind onshore [MWh]'].max()\n",
    "max_value_index = df_resampled['Wind onshore [MWh]'].idxmax()\n",
    "min_value = df_resampled['Wind onshore [MWh]'].min()\n",
    "min_value_index = df_resampled['Wind onshore [MWh]'].idxmin()\n",
    "average_value = df_resampled['Wind onshore [MWh]'].mean()\n",
    "\n",
    "print(f\"Maximum Wind Onshore Generation: {max_value} MWh (Index:{max_value_index} )\")\n",
    "print(f\"Minimum Wind Onshore Generation: {min_value} MWh (Index:{min_value_index})\")\n",
    "print(f\"Average Wind Onshore Generation: {average_value} MWh\")"
   ]
  },
  {
   "cell_type": "markdown",
   "id": "b4115111",
   "metadata": {},
   "source": [
    "# Relationship Plot of Wind Generation Over Time"
   ]
  },
  {
   "cell_type": "code",
   "execution_count": 28,
   "id": "05d7e805",
   "metadata": {
    "scrolled": true
   },
   "outputs": [
    {
     "name": "stderr",
     "output_type": "stream",
     "text": [
      "/home/marshal/anaconda3/lib/python3.11/site-packages/seaborn/axisgrid.py:118: UserWarning: The figure layout has changed to tight\n",
      "  self._figure.tight_layout(*args, **kwargs)\n"
     ]
    },
    {
     "data": {
      "image/png": "[encoded data removed]",
      "text/plain": [
       "<Figure size 500x500 with 1 Axes>"
      ]
     },
     "metadata": {},
     "output_type": "display_data"
    }
   ],
   "source": [
    "sns.relplot(x='Date', y='Wind onshore [MWh]',data=df_resampled,kind='line', label='Wind Onshore', color ='blue')\n",
    "sns.lineplot(x=df_resampled.index, y='Wind offshore [MWh]', data=df_resampled, label='Wind Offshore', color ='green')\n",
    "\n",
    "plt.title('Relationship Plot of Wind Generation over Time')\n",
    "plt.xlabel('Date')\n",
    "plt.ylabel('Wind Onshore Generation-(MWh)')\n",
    "plt.show()"
   ]
  },
  {
   "cell_type": "markdown",
   "id": "d7d11ece",
   "metadata": {},
   "source": [
    "## Correlation heatmap to understand relationships between Wind Onshore and Off energy types"
   ]
  },
  {
   "cell_type": "code",
   "execution_count": null,
   "id": "d87b8abf",
   "metadata": {},
   "outputs": [],
   "source": [
    "# Calculating the correlation matrix\n",
    "corr_matrix = data_filled[energy_columns].corr()\n",
    "\n",
    "# Plotting the heatmap\n",
    "plt.figure(figsize=(12, 8))\n",
    "sns.heatmap(corr_matrix, annot=True, cmap='coolwarm', fmt='.2f', linewidths=.5)\n",
    "plt.title('Correlation Heatmap of Energy Generation Types')\n",
    "plt.show()"
   ]
  }
 ],
 "metadata": {
  "kernelspec": {
   "display_name": "Python 3 (ipykernel)",
   "language": "python",
   "name": "python3"
  },
  "language_info": {
   "codemirror_mode": {
    "name": "ipython",
    "version": 3
   },
   "file_extension": ".py",
   "mimetype": "text/x-python",
   "name": "python",
   "nbconvert_exporter": "python",
   "pygments_lexer": "ipython3",
   "version": "3.11.5"
  }
 },
 "nbformat": 4,
 "nbformat_minor": 5
}
